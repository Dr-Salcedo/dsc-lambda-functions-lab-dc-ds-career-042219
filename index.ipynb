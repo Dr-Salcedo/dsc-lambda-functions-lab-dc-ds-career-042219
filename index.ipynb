{
 "cells": [
  {
   "cell_type": "markdown",
   "metadata": {},
   "source": [
    "# Lambda Functions - Lab"
   ]
  },
  {
   "cell_type": "markdown",
   "metadata": {},
   "source": [
    "## Introduction\n",
    "\n",
    "In this lab, you'll get some hands on practice creating and using lambda functions."
   ]
  },
  {
   "cell_type": "markdown",
   "metadata": {},
   "source": [
    "## Objectives\n",
    "You will be able to:\n",
    "* Understand what lambda functions are and why they are useful\n",
    "* Use lambda functions to transform data within lists and DataFrames"
   ]
  },
  {
   "cell_type": "markdown",
   "metadata": {},
   "source": [
    "## Lambda Functions"
   ]
  },
  {
   "cell_type": "code",
   "execution_count": 1,
   "metadata": {},
   "outputs": [
    {
     "data": {
      "text/html": [
       "<div>\n",
       "<style scoped>\n",
       "    .dataframe tbody tr th:only-of-type {\n",
       "        vertical-align: middle;\n",
       "    }\n",
       "\n",
       "    .dataframe tbody tr th {\n",
       "        vertical-align: top;\n",
       "    }\n",
       "\n",
       "    .dataframe thead th {\n",
       "        text-align: right;\n",
       "    }\n",
       "</style>\n",
       "<table border=\"1\" class=\"dataframe\">\n",
       "  <thead>\n",
       "    <tr style=\"text-align: right;\">\n",
       "      <th></th>\n",
       "      <th>Unnamed: 0</th>\n",
       "      <th>business_id</th>\n",
       "      <th>cool</th>\n",
       "      <th>date</th>\n",
       "      <th>funny</th>\n",
       "      <th>review_id</th>\n",
       "      <th>stars</th>\n",
       "      <th>text</th>\n",
       "      <th>useful</th>\n",
       "      <th>user_id</th>\n",
       "    </tr>\n",
       "  </thead>\n",
       "  <tbody>\n",
       "    <tr>\n",
       "      <th>0</th>\n",
       "      <td>1</td>\n",
       "      <td>pomGBqfbxcqPv14c3XH-ZQ</td>\n",
       "      <td>0</td>\n",
       "      <td>2012-11-13</td>\n",
       "      <td>0</td>\n",
       "      <td>dDl8zu1vWPdKGihJrwQbpw</td>\n",
       "      <td>5</td>\n",
       "      <td>I love this place! My fiance And I go here atl...</td>\n",
       "      <td>0</td>\n",
       "      <td>msQe1u7Z_XuqjGoqhB0J5g</td>\n",
       "    </tr>\n",
       "    <tr>\n",
       "      <th>1</th>\n",
       "      <td>2</td>\n",
       "      <td>jtQARsP6P-LbkyjbO1qNGg</td>\n",
       "      <td>1</td>\n",
       "      <td>2014-10-23</td>\n",
       "      <td>1</td>\n",
       "      <td>LZp4UX5zK3e-c5ZGSeo3kA</td>\n",
       "      <td>1</td>\n",
       "      <td>Terrible. Dry corn bread. Rib tips were all fa...</td>\n",
       "      <td>3</td>\n",
       "      <td>msQe1u7Z_XuqjGoqhB0J5g</td>\n",
       "    </tr>\n",
       "  </tbody>\n",
       "</table>\n",
       "</div>"
      ],
      "text/plain": [
       "   Unnamed: 0             business_id  cool        date  funny  \\\n",
       "0           1  pomGBqfbxcqPv14c3XH-ZQ     0  2012-11-13      0   \n",
       "1           2  jtQARsP6P-LbkyjbO1qNGg     1  2014-10-23      1   \n",
       "\n",
       "                review_id  stars  \\\n",
       "0  dDl8zu1vWPdKGihJrwQbpw      5   \n",
       "1  LZp4UX5zK3e-c5ZGSeo3kA      1   \n",
       "\n",
       "                                                text  useful  \\\n",
       "0  I love this place! My fiance And I go here atl...       0   \n",
       "1  Terrible. Dry corn bread. Rib tips were all fa...       3   \n",
       "\n",
       "                  user_id  \n",
       "0  msQe1u7Z_XuqjGoqhB0J5g  \n",
       "1  msQe1u7Z_XuqjGoqhB0J5g  "
      ]
     },
     "execution_count": 1,
     "metadata": {},
     "output_type": "execute_result"
    }
   ],
   "source": [
    "import pandas as pd\n",
    "df = pd.read_csv('Yelp_Reviews.csv')\n",
    "df.head(2)"
   ]
  },
  {
   "cell_type": "markdown",
   "metadata": {},
   "source": [
    "## Simple Arithmetic\n",
    "\n",
    "Use a lambda function to create a new column called 'stars_squared' by squarring the stars column."
   ]
  },
  {
   "cell_type": "code",
   "execution_count": 4,
   "metadata": {},
   "outputs": [
    {
     "data": {
      "text/plain": [
       "0    25\n",
       "1     1\n",
       "2    25\n",
       "3     1\n",
       "4    25\n",
       "Name: stars_squared, dtype: int64"
      ]
     },
     "execution_count": 4,
     "metadata": {},
     "output_type": "execute_result"
    }
   ],
   "source": [
    "#Your code here\n",
    "square=lambda x: x**2\n",
    "df[\"stars_squared\"]=square(df[\"stars\"])\n",
    "df[\"stars_squared\"].head()"
   ]
  },
  {
   "cell_type": "markdown",
   "metadata": {},
   "source": [
    "## Dates\n",
    "Select the month from the date string using a lambda function."
   ]
  },
  {
   "cell_type": "code",
   "execution_count": 10,
   "metadata": {},
   "outputs": [
    {
     "data": {
      "text/plain": [
       "0    11\n",
       "1    10\n",
       "2    09\n",
       "3    02\n",
       "4    06\n",
       "Name: date_month, dtype: object"
      ]
     },
     "execution_count": 10,
     "metadata": {},
     "output_type": "execute_result"
    }
   ],
   "source": [
    "# Your code here\n",
    "\n",
    "\n",
    "\n",
    "df[\"date_month\"]=df[\"date\"].map(lambda x:x[5:7])\n",
    "df[\"date_month\"].head()"
   ]
  },
  {
   "cell_type": "markdown",
   "metadata": {},
   "source": [
    "## What is the average number of words for a yelp review?\n",
    "Do this with a single line of code!"
   ]
  },
  {
   "cell_type": "code",
   "execution_count": 43,
   "metadata": {},
   "outputs": [
    {
     "data": {
      "text/plain": [
       "77.06551724137931"
      ]
     },
     "execution_count": 43,
     "metadata": {},
     "output_type": "execute_result"
    }
   ],
   "source": [
    "# # Your code here\n",
    "# average_number=df.groupby(len([\"text\"].split()))\n",
    "# average_number\n",
    "\n",
    "New=df['text'].map(lambda x: len(x.split())).mean()\n",
    "New"
   ]
  },
  {
   "cell_type": "markdown",
   "metadata": {},
   "source": [
    "## Create a new column for the number of words in the review."
   ]
  },
  {
   "cell_type": "code",
   "execution_count": 44,
   "metadata": {},
   "outputs": [
    {
     "data": {
      "text/plain": [
       "0    58\n",
       "1    30\n",
       "2    30\n",
       "3    82\n",
       "4    32\n",
       "Name: New, dtype: int64"
      ]
     },
     "execution_count": 44,
     "metadata": {},
     "output_type": "execute_result"
    }
   ],
   "source": [
    "#Your code here\n",
    "New=df['text'].map(lambda x: len(x.split()))\n",
    "New\n",
    "df[\"New\"]=New\n",
    "df[\"New\"].head()"
   ]
  },
  {
   "cell_type": "markdown",
   "metadata": {},
   "source": [
    "## Rewrite the following as a lambda function. Create a new column 'Review_Length'"
   ]
  },
  {
   "cell_type": "code",
   "execution_count": 5,
   "metadata": {
    "collapsed": true
   },
   "outputs": [],
   "source": [
    "def rewrite_as_lambda(value):\n",
    "    if len(value) < 50:\n",
    "        return 'Short'\n",
    "    elif len(value) < 80:\n",
    "        return 'Medium'\n",
    "    else:\n",
    "        return 'Long'\n",
    "#Hint: nest your if, else conditionals\n",
    "\n",
    "[\"Review_Length\"]"
   ]
  },
  {
   "cell_type": "code",
   "execution_count": 46,
   "metadata": {},
   "outputs": [],
   "source": [
    "# df['Review_length'] = df['Review_num_words'].map(lambda x: 'Short' if x < 50 else ('Medium' if x < 80 else 'Long'))\n",
    "# df.Review_length.value_counts(normalize=True)"
   ]
  },
  {
   "cell_type": "markdown",
   "metadata": {},
   "source": [
    "## Level Up: Dates Advanced!\n",
    "<img src=\"images/date_format_map.png\" width=\"600\">  \n",
    "\n",
    "Overwrite the date column by reordering the month and day from YYYY-MM-DD to DD-MM-YYYY. Try to do this using a lambda function."
   ]
  },
  {
   "cell_type": "code",
   "execution_count": 63,
   "metadata": {},
   "outputs": [],
   "source": [
    "#Your code here\n",
    "from datetime import datetime\n"
   ]
  },
  {
   "cell_type": "code",
   "execution_count": 115,
   "metadata": {},
   "outputs": [],
   "source": [
    "x = df[\"date\"][0]"
   ]
  },
  {
   "cell_type": "code",
   "execution_count": 118,
   "metadata": {},
   "outputs": [
    {
     "data": {
      "text/plain": [
       "'2012-11-13'"
      ]
     },
     "execution_count": 118,
     "metadata": {},
     "output_type": "execute_result"
    }
   ],
   "source": [
    "x"
   ]
  },
  {
   "cell_type": "code",
   "execution_count": 119,
   "metadata": {},
   "outputs": [
    {
     "data": {
      "text/plain": [
       "'13-11-2012'"
      ]
     },
     "execution_count": 119,
     "metadata": {},
     "output_type": "execute_result"
    }
   ],
   "source": [
    "'-'.join([x[8:11], x[5:7], x[:4]])"
   ]
  },
  {
   "cell_type": "code",
   "execution_count": 121,
   "metadata": {},
   "outputs": [
    {
     "data": {
      "text/plain": [
       "'2012-11-13'"
      ]
     },
     "execution_count": 121,
     "metadata": {},
     "output_type": "execute_result"
    }
   ],
   "source": [
    "df['date'][0]"
   ]
  },
  {
   "cell_type": "code",
   "execution_count": 132,
   "metadata": {},
   "outputs": [],
   "source": [
    "df['date_datetime_obj'] = pd.to_datetime(df[\"new_date\"])   format = '%d-%m-%Y'"
   ]
  },
  {
   "cell_type": "code",
   "execution_count": 133,
   "metadata": {},
   "outputs": [
    {
     "data": {
      "text/plain": [
       "0      2012-11-13\n",
       "1      2014-10-23\n",
       "2      2014-05-09\n",
       "3      2011-02-25\n",
       "4      2016-06-15\n",
       "5      2016-09-23\n",
       "6      2014-08-23\n",
       "7      2017-08-16\n",
       "8      2017-11-18\n",
       "9      2017-11-18\n",
       "10     2015-10-12\n",
       "11     2012-12-02\n",
       "12     2012-12-02\n",
       "13     2012-12-02\n",
       "14     2012-12-02\n",
       "15     2014-03-06\n",
       "16     2016-11-18\n",
       "17     2015-05-11\n",
       "18     2015-05-11\n",
       "19     2017-01-21\n",
       "20     2016-06-11\n",
       "21     2016-05-28\n",
       "22     2016-08-05\n",
       "23     2012-11-10\n",
       "24     2017-08-04\n",
       "25     2017-09-04\n",
       "26     2010-11-17\n",
       "27     2016-10-04\n",
       "28     2016-10-03\n",
       "29     2016-02-24\n",
       "          ...    \n",
       "2580   2015-08-09\n",
       "2581   2013-12-07\n",
       "2582   2016-07-27\n",
       "2583   2015-12-10\n",
       "2584   2017-06-20\n",
       "2585   2015-10-17\n",
       "2586   2015-06-25\n",
       "2587   2012-08-14\n",
       "2588   2015-02-07\n",
       "2589   2015-03-22\n",
       "2590   2007-02-10\n",
       "2591   2016-07-17\n",
       "2592   2015-03-08\n",
       "2593   2013-08-28\n",
       "2594   2011-08-25\n",
       "2595   2014-02-27\n",
       "2596   2014-01-07\n",
       "2597   2016-08-20\n",
       "2598   2011-01-08\n",
       "2599   2014-01-27\n",
       "2600   2012-06-14\n",
       "2601   2014-01-14\n",
       "2602   2012-05-19\n",
       "2603   2013-01-03\n",
       "2604   2013-03-11\n",
       "2605   2013-02-06\n",
       "2606   2016-08-14\n",
       "2607   2016-06-14\n",
       "2608   2013-02-10\n",
       "2609   2016-08-15\n",
       "Name: date_datetime_obj, Length: 2610, dtype: datetime64[ns]"
      ]
     },
     "execution_count": 133,
     "metadata": {},
     "output_type": "execute_result"
    }
   ],
   "source": [
    "df['date_datetime_obj'] "
   ]
  },
  {
   "cell_type": "code",
   "execution_count": 123,
   "metadata": {},
   "outputs": [
    {
     "data": {
      "text/plain": [
       "0       13-11-2012\n",
       "1       23-10-2014\n",
       "2       05-09-2014\n",
       "3       25-02-2011\n",
       "4       15-06-2016\n",
       "5       23-09-2016\n",
       "6       23-08-2014\n",
       "7       16-08-2017\n",
       "8       18-11-2017\n",
       "9       18-11-2017\n",
       "10      10-12-2015\n",
       "11      12-02-2012\n",
       "12      12-02-2012\n",
       "13      12-02-2012\n",
       "14      12-02-2012\n",
       "15      03-06-2014\n",
       "16      18-11-2016\n",
       "17      05-11-2015\n",
       "18      05-11-2015\n",
       "19      21-01-2017\n",
       "20      06-11-2016\n",
       "21      28-05-2016\n",
       "22      08-05-2016\n",
       "23      11-10-2012\n",
       "24      08-04-2017\n",
       "25      09-04-2017\n",
       "26      17-11-2010\n",
       "27      10-04-2016\n",
       "28      10-03-2016\n",
       "29      24-02-2016\n",
       "           ...    \n",
       "2580    08-09-2015\n",
       "2581    12-07-2013\n",
       "2582    27-07-2016\n",
       "2583    12-10-2015\n",
       "2584    20-06-2017\n",
       "2585    17-10-2015\n",
       "2586    25-06-2015\n",
       "2587    14-08-2012\n",
       "2588    02-07-2015\n",
       "2589    22-03-2015\n",
       "2590    02-10-2007\n",
       "2591    17-07-2016\n",
       "2592    03-08-2015\n",
       "2593    28-08-2013\n",
       "2594    25-08-2011\n",
       "2595    27-02-2014\n",
       "2596    01-07-2014\n",
       "2597    20-08-2016\n",
       "2598    01-08-2011\n",
       "2599    27-01-2014\n",
       "2600    14-06-2012\n",
       "2601    14-01-2014\n",
       "2602    19-05-2012\n",
       "2603    01-03-2013\n",
       "2604    03-11-2013\n",
       "2605    02-06-2013\n",
       "2606    14-08-2016\n",
       "2607    14-06-2016\n",
       "2608    02-10-2013\n",
       "2609    15-08-2016\n",
       "Name: new_date, Length: 2610, dtype: object"
      ]
     },
     "execution_count": 123,
     "metadata": {},
     "output_type": "execute_result"
    }
   ],
   "source": [
    "df[\"new_date\"]=df[\"date\"].map(lambda date_string: '-'.join([date_string[8:11], pablo[5:7], x[:4]]))\n",
    "# df[\"new_date\"]=df[\"date\"].map(lambda x: x.split(\"-\"))\n",
    "df[\"new_date\"]\n",
    "# df[\"correct_date\"]=df[\"new_date\"][:][2]\n",
    "# df[\"correct_date\"]\n",
    "\n",
    "# oldformat = df[\"date\"]\n",
    "# datetimeobject = datetime.strptime(oldformat,'%Y%m%d')\n",
    "# datetimeobject\n",
    "\n",
    "\n",
    "# newformat = datetimeobject.strftime('%m-%d-%Y')\n",
    "# print (newformat)\n",
    "# newformat2 = datetimeobject.strftime('%d/%m/%Y')\n",
    "# print (newformat2)"
   ]
  },
  {
   "cell_type": "markdown",
   "metadata": {},
   "source": [
    "## Summary\n",
    "\n",
    "Great! Hopefully you're getting the hang of lambda functions now! It's important not to overuse them - it will often make more sense to define a function so that it's reusable elsewhere. But whenever you need to quickly apply some simple processing to a collection of data you have a new technique that will help you to do just that. It'll also be useful if you're reading someone else's code that happens to use lambdas."
   ]
  },
  {
   "cell_type": "code",
   "execution_count": null,
   "metadata": {},
   "outputs": [],
   "source": []
  },
  {
   "cell_type": "code",
   "execution_count": null,
   "metadata": {},
   "outputs": [],
   "source": []
  },
  {
   "cell_type": "code",
   "execution_count": null,
   "metadata": {},
   "outputs": [],
   "source": []
  },
  {
   "cell_type": "code",
   "execution_count": null,
   "metadata": {},
   "outputs": [],
   "source": []
  },
  {
   "cell_type": "code",
   "execution_count": null,
   "metadata": {},
   "outputs": [],
   "source": []
  },
  {
   "cell_type": "code",
   "execution_count": null,
   "metadata": {},
   "outputs": [],
   "source": []
  },
  {
   "cell_type": "code",
   "execution_count": null,
   "metadata": {},
   "outputs": [],
   "source": []
  },
  {
   "cell_type": "code",
   "execution_count": null,
   "metadata": {},
   "outputs": [],
   "source": []
  }
 ],
 "metadata": {
  "kernelspec": {
   "display_name": "Python 3",
   "language": "python",
   "name": "python3"
  },
  "language_info": {
   "codemirror_mode": {
    "name": "ipython",
    "version": 3
   },
   "file_extension": ".py",
   "mimetype": "text/x-python",
   "name": "python",
   "nbconvert_exporter": "python",
   "pygments_lexer": "ipython3",
   "version": "3.6.6"
  }
 },
 "nbformat": 4,
 "nbformat_minor": 2
}
